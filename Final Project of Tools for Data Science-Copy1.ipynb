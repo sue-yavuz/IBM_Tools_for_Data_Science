{
 "cells": [
  {
   "cell_type": "markdown",
   "id": "bb887edd",
   "metadata": {},
   "source": [
    "##  Project Name"
   ]
  },
  {
   "cell_type": "code",
   "execution_count": 11,
   "id": "719ded2c",
   "metadata": {},
   "outputs": [
    {
     "name": "stdout",
     "output_type": "stream",
     "text": [
      "Project Name:  Exploring Data Science Tools: From Theory to Practice\n"
     ]
    }
   ],
   "source": [
    "print(\"Project Name: \",\"Exploring Data Science Tools: From Theory to Practice\")"
   ]
  },
  {
   "cell_type": "markdown",
   "id": "ff4c8f03",
   "metadata": {},
   "source": [
    "##  Create a markdown cell with the title of the notebook. (1 pt)"
   ]
  },
  {
   "cell_type": "markdown",
   "id": "ebac5028",
   "metadata": {},
   "source": [
    "Exploring Data Science Tools: From Theory to Practice"
   ]
  },
  {
   "cell_type": "markdown",
   "id": "b8ed5234",
   "metadata": {},
   "source": [
    "##  Create a markdown cell for an introduction. (1 pt)"
   ]
  },
  {
   "cell_type": "markdown",
   "id": "c6784c60",
   "metadata": {},
   "source": [
    "Exploring Data Science Tools: From Theory to Practice\n",
    "\n",
    "In this notebook, I delve into the practical world of data science tools, applying concepts learned in the Coursera course. I'll utilize popular tools like Jupyter, Python libraries, and more to perform hands-on data analysis, visualization, and modeling tasks.\n"
   ]
  },
  {
   "cell_type": "markdown",
   "id": "c48e23d6",
   "metadata": {},
   "source": [
    "##  Create a markdown cell to list data science languages. (3 pts)"
   ]
  },
  {
   "cell_type": "markdown",
   "id": "69663f04",
   "metadata": {},
   "source": [
    "<ol >\n",
    "  <li>Python</li>\n",
    "  <li>R</li>\n",
    "  <li>SQL</li>\n",
    "  <li>Java</li>\n",
    "  <li>JavaScript</li>\n",
    "</ol>"
   ]
  },
  {
   "cell_type": "markdown",
   "id": "52daf5f0",
   "metadata": {},
   "source": [
    "##  Create a markdown cell to list data science libraries. (3 pts)"
   ]
  },
  {
   "cell_type": "markdown",
   "id": "025bd377",
   "metadata": {},
   "source": [
    "<ol >\n",
    "  <li>TensorFlow</li>\n",
    "  <li>NumPy</li>\n",
    "  <li>SciPy</li>\n",
    "  <li>Pandas</li>\n",
    "  <li>Matplotlib</li>\n",
    "  <li>Keras</li>\n",
    "  <li>SciKit-Learn</li>\n",
    "  <li>PyTorch</li>\n",
    "</ol>\n"
   ]
  },
  {
   "cell_type": "markdown",
   "id": "58019751",
   "metadata": {},
   "source": [
    "## Create a markdown cell with a table of Data Science tools. (3 pts)"
   ]
  },
  {
   "cell_type": "markdown",
   "id": "ccf3ee37",
   "metadata": {},
   "source": [
    "\n",
    "\n",
    "| Tool           | Description                                       | Website                               |\n",
    "|----------------|---------------------------------------------------|---------------------------------------|\n",
    "| Jupyter Notebook | Interactive coding and documentation          | [Link](https://jupyter.org/)           |\n",
    "| Python          | Programming language for data analysis         | [Link](https://www.python.org/)        |\n",
    "| R              | Statistical computing and graphics            | [Link](https://www.r-project.org/)     |\n",
    "| Pandas         | Data manipulation and analysis in Python     | [Link](https://pandas.pydata.org/)     |\n",
    "| NumPy          | Numerical computing in Python                | [Link](https://numpy.org/)             |\n",
    "| Matplotlib     | 2D plotting library for Python              | [Link](https://matplotlib.org/)        |\n",
    "| Seaborn        | Statistical data visualization in Python    | [Link](https://seaborn.pydata.org/)    |\n",
    "| Scikit-learn   | Machine learning library for Python        | [Link](https://scikit-learn.org/)      |\n",
    "| TensorFlow     | Open-source machine learning framework     | [Link](https://www.tensorflow.org/)    |\n",
    "| PyTorch        | Machine learning library for research      | [Link](https://pytorch.org/)           |\n",
    "| SQL            | Database querying language                | -                                   |\n",
    "| Tableau        | Data visualization and business intelligence | [Link](https://www.tableau.com/)       |\n",
    "| Power BI       | Business analytics service by Microsoft   | [Link](https://powerbi.microsoft.com/) |\n",
    "| RStudio        | Integrated development environment for R  | [Link](https://rstudio.com/)           |\n",
    "| KNIME          | Open platform for data analytics         | [Link](https://www.knime.com/)         |\n",
    "\n"
   ]
  },
  {
   "cell_type": "markdown",
   "id": "53604665",
   "metadata": {},
   "source": [
    "##  Create a markdown cell introducing arithmetic expression examples. (1 pt)"
   ]
  },
  {
   "cell_type": "markdown",
   "id": "10a9456c",
   "metadata": {},
   "source": [
    "\n",
    "1. **Addition**: Adding two numbers together.\n",
    "   - Example: `3 + 5` evaluates to `8`.\n",
    "\n",
    "2. **Subtraction**: Subtracting one number from another.\n",
    "   - Example: `10 - 4` evaluates to `6`.\n",
    "\n",
    "3. **Multiplication**: Multiplying two numbers.\n",
    "   - Example: `6 * 7` evaluates to `42`.\n",
    "\n",
    "4. **Division**: Dividing one number by another.\n",
    "   - Example: `20 / 4` evaluates to `5`.\n",
    "\n",
    "5. **Exponentiation**: Raising a number to a certain power.\n",
    "   - Example: `2 ** 3` (2 raised to the power of 3) evaluates to `8`.\n",
    "\n",
    "6. **Modulus**: Finding the remainder when dividing one number by another.\n",
    "   - Example: `17 % 5` (remainder of 17 divided by 5) evaluates to `2`.\n",
    "\n",
    "7. **Parentheses**: Changing the order of operations using parentheses.\n",
    "   - Example: `(4 + 2) * 3` evaluates to `18`, while `4 + (2 * 3)` evaluates to `10`.\n",
    "\n",
    "8. **Mixed Operations**: Combining multiple operations in an expression.\n",
    "   - Example: `5 * (10 - 3) + 2` evaluates to `47`.\n"
   ]
  },
  {
   "cell_type": "markdown",
   "id": "f6932e99",
   "metadata": {},
   "source": [
    "## Create a code cell to multiply and add numbers. (2 pts)"
   ]
  },
  {
   "cell_type": "code",
   "execution_count": 12,
   "id": "d64215f4",
   "metadata": {},
   "outputs": [
    {
     "name": "stdout",
     "output_type": "stream",
     "text": [
      "Multiplication result: 40\n",
      "Addition result: 13\n"
     ]
    }
   ],
   "source": [
    "# Multiplication\n",
    "num1 = 5\n",
    "num2 = 8\n",
    "result_mul = num1 * num2\n",
    "print(\"Multiplication result:\", result_mul)\n",
    "\n",
    "# Addition\n",
    "num3 = 10\n",
    "num4 = 3\n",
    "result_add = num3 + num4\n",
    "print(\"Addition result:\", result_add)\n"
   ]
  },
  {
   "cell_type": "markdown",
   "id": "f67b5c2c",
   "metadata": {},
   "source": [
    "##  Create a code cell to convert minutes to hours. (2 pts)"
   ]
  },
  {
   "cell_type": "code",
   "execution_count": 13,
   "id": "043a6b5b",
   "metadata": {},
   "outputs": [
    {
     "name": "stdout",
     "output_type": "stream",
     "text": [
      "135 minutes is equal to 2.25 hours\n"
     ]
    }
   ],
   "source": [
    "# Conversion from minutes to hours\n",
    "minutes = 135\n",
    "hours = minutes / 60\n",
    "\n",
    "print(f\"{minutes} minutes is equal to {hours:.2f} hours\")\n"
   ]
  },
  {
   "cell_type": "markdown",
   "id": "52c66f2f",
   "metadata": {},
   "source": [
    "## Insert a markdown cell to list Objectives. (3 pts)"
   ]
  },
  {
   "cell_type": "markdown",
   "id": "2a93df24",
   "metadata": {},
   "source": [
    "In this project, my main objectives are:\n",
    "\n",
    "1. **Explore Data Science Tools**: Gain practical experience with essential tools used in data science, including Jupyter Notebook, Python libraries like Pandas and Matplotlib, and data visualization techniques.\n",
    "\n",
    "2. **Hands-on Data Analysis**: Apply data manipulation techniques to preprocess and clean datasets, preparing them for analysis. Perform exploratory data analysis (EDA) to uncover insights and patterns.\n",
    "\n",
    "3. **Visualize Insights**: Create informative and visually appealing visualizations using Matplotlib and Seaborn to effectively communicate findings from the data analysis.\n",
    "\n",
    "4. **Practice Data Modeling**: Utilize data science libraries like NumPy and Scikit-learn to build and evaluate simple data models, providing a glimpse into the machine learning process.\n",
    "\n",
    "5. **Develop Problem-Solving Skills**: Tackle real-world data challenges, make decisions based on data, and troubleshoot any issues encountered during the analysis.\n",
    "\n"
   ]
  },
  {
   "cell_type": "markdown",
   "id": "69082214",
   "metadata": {},
   "source": [
    "## Create a markdown cell to indicate the Author’s name. (2 pts)"
   ]
  },
  {
   "cell_type": "markdown",
   "id": "41b5c3ca",
   "metadata": {},
   "source": [
    "Author\n",
    "\n",
    "This notebook was created by : <b> [Sue Yavuz] </b>\n"
   ]
  },
  {
   "cell_type": "markdown",
   "id": "78151294",
   "metadata": {},
   "source": [
    "## Share your notebook through GitHub (3 pts)"
   ]
  },
  {
   "cell_type": "markdown",
   "id": "ce8ee8e5",
   "metadata": {},
   "source": [
    "This notebook's link on GitHub : <b> [https://github.com/sue-yavuz/IBM_Tools_for_Data_Science/blob/main/Final%20Project%20of%20Tools%20for%20Data%20Science-Copy1.ipynb] </b>"
   ]
  },
  {
   "cell_type": "markdown",
   "id": "81a2af4b",
   "metadata": {},
   "source": [
    "##  Take a screenshot of the first page of the notebook. (1 pt)"
   ]
  },
  {
   "cell_type": "markdown",
   "id": "ea7b2386",
   "metadata": {},
   "source": [
    "\n",
    "Below is a screenshot of the data visualization I created:\n",
    "\n",
    "![Screenshot](/Users/sueyavuz/Desktop/IBM/final project of Tools for Data Science.png)\n",
    "\n"
   ]
  }
 ],
 "metadata": {
  "kernelspec": {
   "display_name": "Python 3 (ipykernel)",
   "language": "python",
   "name": "python3"
  },
  "language_info": {
   "codemirror_mode": {
    "name": "ipython",
    "version": 3
   },
   "file_extension": ".py",
   "mimetype": "text/x-python",
   "name": "python",
   "nbconvert_exporter": "python",
   "pygments_lexer": "ipython3",
   "version": "3.9.16"
  },
  "toc": {
   "base_numbering": 1,
   "nav_menu": {},
   "number_sections": true,
   "sideBar": true,
   "skip_h1_title": false,
   "title_cell": "Table of Contents",
   "title_sidebar": "Contents",
   "toc_cell": false,
   "toc_position": {},
   "toc_section_display": true,
   "toc_window_display": false
  }
 },
 "nbformat": 4,
 "nbformat_minor": 5
}
